{
  "nbformat": 4,
  "nbformat_minor": 0,
  "metadata": {
    "colab": {
      "provenance": [],
      "authorship_tag": "ABX9TyN7Bp0ubGYouoSezWaKwV0S",
      "include_colab_link": true
    },
    "kernelspec": {
      "name": "python3",
      "display_name": "Python 3"
    },
    "language_info": {
      "name": "python"
    }
  },
  "cells": [
    {
      "cell_type": "markdown",
      "metadata": {
        "id": "view-in-github",
        "colab_type": "text"
      },
      "source": [
        "<a href=\"https://colab.research.google.com/github/neelsoumya/spacecraft_design_LLM/blob/main/deep_research_agent_ag2_spacecraftdesign.ipynb\" target=\"_parent\"><img src=\"https://colab.research.google.com/assets/colab-badge.svg\" alt=\"Open In Colab\"/></a>"
      ]
    },
    {
      "cell_type": "markdown",
      "source": [
        "Install packages"
      ],
      "metadata": {
        "id": "ITogSJ-1KYY_"
      }
    },
    {
      "cell_type": "markdown",
      "source": [
        "A very simple implementation of a deepresearch agent using the AG2 package\n",
        "\n",
        "https://github.com/ag2ai/ag2/blob/main//notebook/agents_deep_researcher.ipynb\n",
        "\n",
        "https://docs.ag2.ai/latest/docs/use-cases/notebooks/Notebooks/"
      ],
      "metadata": {
        "id": "HmYaAURVVp5E"
      }
    },
    {
      "cell_type": "code",
      "source": [
        "pip install -U ag2[openai,browser-use]"
      ],
      "metadata": {
        "colab": {
          "base_uri": "https://localhost:8080/",
          "height": 1000
        },
        "id": "-GPWFb16KKE_",
        "outputId": "8d80c99c-acf5-4f9c-82d3-1c0b458d2b11"
      },
      "execution_count": 2,
      "outputs": [
        {
          "output_type": "stream",
          "name": "stdout",
          "text": [
            "Requirement already satisfied: ag2[browser-use,openai] in /usr/local/lib/python3.11/dist-packages (0.9.2)\n",
            "Requirement already satisfied: anyio<5.0.0,>=3.0.0 in /usr/local/lib/python3.11/dist-packages (from ag2[browser-use,openai]) (4.9.0)\n",
            "Requirement already satisfied: asyncer==0.0.8 in /usr/local/lib/python3.11/dist-packages (from ag2[browser-use,openai]) (0.0.8)\n",
            "Requirement already satisfied: diskcache in /usr/local/lib/python3.11/dist-packages (from ag2[browser-use,openai]) (5.6.3)\n",
            "Requirement already satisfied: docker in /usr/local/lib/python3.11/dist-packages (from ag2[browser-use,openai]) (7.1.0)\n",
            "Requirement already satisfied: httpx<1,>=0.28.1 in /usr/local/lib/python3.11/dist-packages (from ag2[browser-use,openai]) (0.28.1)\n",
            "Requirement already satisfied: packaging in /usr/local/lib/python3.11/dist-packages (from ag2[browser-use,openai]) (24.2)\n",
            "Requirement already satisfied: pydantic<3,>=2.6.1 in /usr/local/lib/python3.11/dist-packages (from ag2[browser-use,openai]) (2.11.5)\n",
            "Requirement already satisfied: python-dotenv in /usr/local/lib/python3.11/dist-packages (from ag2[browser-use,openai]) (1.1.0)\n",
            "Requirement already satisfied: termcolor in /usr/local/lib/python3.11/dist-packages (from ag2[browser-use,openai]) (3.1.0)\n",
            "Requirement already satisfied: tiktoken in /usr/local/lib/python3.11/dist-packages (from ag2[browser-use,openai]) (0.9.0)\n",
            "Requirement already satisfied: browser-use==0.1.37 in /usr/local/lib/python3.11/dist-packages (from ag2[browser-use,openai]) (0.1.37)\n",
            "Requirement already satisfied: openai>=1.66.2 in /usr/local/lib/python3.11/dist-packages (from ag2[browser-use,openai]) (1.84.0)\n",
            "Requirement already satisfied: beautifulsoup4>=4.12.3 in /usr/local/lib/python3.11/dist-packages (from browser-use==0.1.37->ag2[browser-use,openai]) (4.13.4)\n",
            "Requirement already satisfied: langchain-anthropic==0.3.3 in /usr/local/lib/python3.11/dist-packages (from browser-use==0.1.37->ag2[browser-use,openai]) (0.3.3)\n",
            "Requirement already satisfied: langchain-aws>=0.2.11 in /usr/local/lib/python3.11/dist-packages (from browser-use==0.1.37->ag2[browser-use,openai]) (0.2.24)\n",
            "Requirement already satisfied: langchain-fireworks>=0.2.6 in /usr/local/lib/python3.11/dist-packages (from browser-use==0.1.37->ag2[browser-use,openai]) (0.3.0)\n",
            "Requirement already satisfied: langchain-google-genai==2.0.8 in /usr/local/lib/python3.11/dist-packages (from browser-use==0.1.37->ag2[browser-use,openai]) (2.0.8)\n",
            "Requirement already satisfied: langchain-ollama==0.2.2 in /usr/local/lib/python3.11/dist-packages (from browser-use==0.1.37->ag2[browser-use,openai]) (0.2.2)\n",
            "Requirement already satisfied: langchain-openai==0.3.1 in /usr/local/lib/python3.11/dist-packages (from browser-use==0.1.37->ag2[browser-use,openai]) (0.3.1)\n",
            "Requirement already satisfied: langchain==0.3.14 in /usr/local/lib/python3.11/dist-packages (from browser-use==0.1.37->ag2[browser-use,openai]) (0.3.14)\n",
            "Requirement already satisfied: lmnr>=0.4.59 in /usr/local/lib/python3.11/dist-packages (from lmnr[langchain]>=0.4.59->browser-use==0.1.37->ag2[browser-use,openai]) (0.6.8)\n",
            "Requirement already satisfied: maincontentextractor>=0.0.4 in /usr/local/lib/python3.11/dist-packages (from browser-use==0.1.37->ag2[browser-use,openai]) (0.0.4)\n",
            "Requirement already satisfied: markdownify==0.14.1 in /usr/local/lib/python3.11/dist-packages (from browser-use==0.1.37->ag2[browser-use,openai]) (0.14.1)\n",
            "Requirement already satisfied: playwright>=1.49.0 in /usr/local/lib/python3.11/dist-packages (from browser-use==0.1.37->ag2[browser-use,openai]) (1.52.0)\n",
            "Requirement already satisfied: posthog>=3.7.0 in /usr/local/lib/python3.11/dist-packages (from browser-use==0.1.37->ag2[browser-use,openai]) (4.6.2)\n",
            "Requirement already satisfied: requests>=2.32.3 in /usr/local/lib/python3.11/dist-packages (from browser-use==0.1.37->ag2[browser-use,openai]) (2.32.3)\n",
            "Requirement already satisfied: setuptools>=75.8.0 in /usr/local/lib/python3.11/dist-packages (from browser-use==0.1.37->ag2[browser-use,openai]) (80.9.0)\n",
            "Requirement already satisfied: PyYAML>=5.3 in /usr/local/lib/python3.11/dist-packages (from langchain==0.3.14->browser-use==0.1.37->ag2[browser-use,openai]) (6.0.2)\n",
            "Requirement already satisfied: SQLAlchemy<3,>=1.4 in /usr/local/lib/python3.11/dist-packages (from langchain==0.3.14->browser-use==0.1.37->ag2[browser-use,openai]) (2.0.41)\n",
            "Requirement already satisfied: aiohttp<4.0.0,>=3.8.3 in /usr/local/lib/python3.11/dist-packages (from langchain==0.3.14->browser-use==0.1.37->ag2[browser-use,openai]) (3.11.15)\n",
            "Requirement already satisfied: langchain-core<0.4.0,>=0.3.29 in /usr/local/lib/python3.11/dist-packages (from langchain==0.3.14->browser-use==0.1.37->ag2[browser-use,openai]) (0.3.63)\n",
            "Requirement already satisfied: langchain-text-splitters<0.4.0,>=0.3.3 in /usr/local/lib/python3.11/dist-packages (from langchain==0.3.14->browser-use==0.1.37->ag2[browser-use,openai]) (0.3.8)\n",
            "Requirement already satisfied: langsmith<0.3,>=0.1.17 in /usr/local/lib/python3.11/dist-packages (from langchain==0.3.14->browser-use==0.1.37->ag2[browser-use,openai]) (0.2.11)\n",
            "Requirement already satisfied: numpy<2,>=1.22.4 in /usr/local/lib/python3.11/dist-packages (from langchain==0.3.14->browser-use==0.1.37->ag2[browser-use,openai]) (1.26.4)\n",
            "Requirement already satisfied: tenacity!=8.4.0,<10,>=8.1.0 in /usr/local/lib/python3.11/dist-packages (from langchain==0.3.14->browser-use==0.1.37->ag2[browser-use,openai]) (9.1.2)\n",
            "Requirement already satisfied: anthropic<1,>=0.41.0 in /usr/local/lib/python3.11/dist-packages (from langchain-anthropic==0.3.3->browser-use==0.1.37->ag2[browser-use,openai]) (0.53.0)\n",
            "Requirement already satisfied: defusedxml<0.8.0,>=0.7.1 in /usr/local/lib/python3.11/dist-packages (from langchain-anthropic==0.3.3->browser-use==0.1.37->ag2[browser-use,openai]) (0.7.1)\n",
            "Requirement already satisfied: filetype<2.0.0,>=1.2.0 in /usr/local/lib/python3.11/dist-packages (from langchain-google-genai==2.0.8->browser-use==0.1.37->ag2[browser-use,openai]) (1.2.0)\n",
            "Requirement already satisfied: google-generativeai<0.9.0,>=0.8.0 in /usr/local/lib/python3.11/dist-packages (from langchain-google-genai==2.0.8->browser-use==0.1.37->ag2[browser-use,openai]) (0.8.5)\n",
            "Requirement already satisfied: ollama<1,>=0.4.4 in /usr/local/lib/python3.11/dist-packages (from langchain-ollama==0.2.2->browser-use==0.1.37->ag2[browser-use,openai]) (0.5.1)\n",
            "Requirement already satisfied: six<2,>=1.15 in /usr/local/lib/python3.11/dist-packages (from markdownify==0.14.1->browser-use==0.1.37->ag2[browser-use,openai]) (1.17.0)\n",
            "Requirement already satisfied: idna>=2.8 in /usr/local/lib/python3.11/dist-packages (from anyio<5.0.0,>=3.0.0->ag2[browser-use,openai]) (3.10)\n",
            "Requirement already satisfied: sniffio>=1.1 in /usr/local/lib/python3.11/dist-packages (from anyio<5.0.0,>=3.0.0->ag2[browser-use,openai]) (1.3.1)\n",
            "Requirement already satisfied: typing_extensions>=4.5 in /usr/local/lib/python3.11/dist-packages (from anyio<5.0.0,>=3.0.0->ag2[browser-use,openai]) (4.14.0)\n",
            "Requirement already satisfied: certifi in /usr/local/lib/python3.11/dist-packages (from httpx<1,>=0.28.1->ag2[browser-use,openai]) (2025.4.26)\n",
            "Requirement already satisfied: httpcore==1.* in /usr/local/lib/python3.11/dist-packages (from httpx<1,>=0.28.1->ag2[browser-use,openai]) (1.0.9)\n",
            "Requirement already satisfied: h11>=0.16 in /usr/local/lib/python3.11/dist-packages (from httpcore==1.*->httpx<1,>=0.28.1->ag2[browser-use,openai]) (0.16.0)\n",
            "Requirement already satisfied: distro<2,>=1.7.0 in /usr/local/lib/python3.11/dist-packages (from openai>=1.66.2->ag2[browser-use,openai]) (1.9.0)\n",
            "Requirement already satisfied: jiter<1,>=0.4.0 in /usr/local/lib/python3.11/dist-packages (from openai>=1.66.2->ag2[browser-use,openai]) (0.10.0)\n",
            "Requirement already satisfied: tqdm>4 in /usr/local/lib/python3.11/dist-packages (from openai>=1.66.2->ag2[browser-use,openai]) (4.67.1)\n",
            "Requirement already satisfied: annotated-types>=0.6.0 in /usr/local/lib/python3.11/dist-packages (from pydantic<3,>=2.6.1->ag2[browser-use,openai]) (0.7.0)\n",
            "Requirement already satisfied: pydantic-core==2.33.2 in /usr/local/lib/python3.11/dist-packages (from pydantic<3,>=2.6.1->ag2[browser-use,openai]) (2.33.2)\n",
            "Requirement already satisfied: typing-inspection>=0.4.0 in /usr/local/lib/python3.11/dist-packages (from pydantic<3,>=2.6.1->ag2[browser-use,openai]) (0.4.1)\n",
            "Requirement already satisfied: regex>=2022.1.18 in /usr/local/lib/python3.11/dist-packages (from tiktoken->ag2[browser-use,openai]) (2024.11.6)\n",
            "Requirement already satisfied: urllib3>=1.26.0 in /usr/local/lib/python3.11/dist-packages (from docker->ag2[browser-use,openai]) (2.4.0)\n",
            "Requirement already satisfied: soupsieve>1.2 in /usr/local/lib/python3.11/dist-packages (from beautifulsoup4>=4.12.3->browser-use==0.1.37->ag2[browser-use,openai]) (2.7)\n",
            "Requirement already satisfied: boto3>=1.37.24 in /usr/local/lib/python3.11/dist-packages (from langchain-aws>=0.2.11->browser-use==0.1.37->ag2[browser-use,openai]) (1.38.33)\n",
            "Requirement already satisfied: fireworks-ai>=0.13.0 in /usr/local/lib/python3.11/dist-packages (from langchain-fireworks>=0.2.6->browser-use==0.1.37->ag2[browser-use,openai]) (0.17.16)\n",
            "Collecting argparse>=1.0 (from lmnr>=0.4.59->lmnr[langchain]>=0.4.59->browser-use==0.1.37->ag2[browser-use,openai])\n",
            "  Using cached argparse-1.4.0-py2.py3-none-any.whl.metadata (2.8 kB)\n",
            "Requirement already satisfied: grpcio>=1 in /usr/local/lib/python3.11/dist-packages (from lmnr>=0.4.59->lmnr[langchain]>=0.4.59->browser-use==0.1.37->ag2[browser-use,openai]) (1.72.1)\n",
            "Requirement already satisfied: opentelemetry-api>=1.33.0 in /usr/local/lib/python3.11/dist-packages (from lmnr>=0.4.59->lmnr[langchain]>=0.4.59->browser-use==0.1.37->ag2[browser-use,openai]) (1.34.1)\n",
            "Requirement already satisfied: opentelemetry-exporter-otlp-proto-grpc>=1.33.0 in /usr/local/lib/python3.11/dist-packages (from lmnr>=0.4.59->lmnr[langchain]>=0.4.59->browser-use==0.1.37->ag2[browser-use,openai]) (1.34.1)\n",
            "Requirement already satisfied: opentelemetry-exporter-otlp-proto-http>=1.33.0 in /usr/local/lib/python3.11/dist-packages (from lmnr>=0.4.59->lmnr[langchain]>=0.4.59->browser-use==0.1.37->ag2[browser-use,openai]) (1.34.1)\n",
            "Requirement already satisfied: opentelemetry-instrumentation-threading>=0.54b0 in /usr/local/lib/python3.11/dist-packages (from lmnr>=0.4.59->lmnr[langchain]>=0.4.59->browser-use==0.1.37->ag2[browser-use,openai]) (0.55b1)\n",
            "Requirement already satisfied: opentelemetry-sdk>=1.33.0 in /usr/local/lib/python3.11/dist-packages (from lmnr>=0.4.59->lmnr[langchain]>=0.4.59->browser-use==0.1.37->ag2[browser-use,openai]) (1.34.1)\n",
            "Requirement already satisfied: opentelemetry-semantic-conventions>=0.54b0 in /usr/local/lib/python3.11/dist-packages (from lmnr>=0.4.59->lmnr[langchain]>=0.4.59->browser-use==0.1.37->ag2[browser-use,openai]) (0.55b1)\n",
            "Requirement already satisfied: opentelemetry-semantic-conventions-ai>=0.4.8 in /usr/local/lib/python3.11/dist-packages (from lmnr>=0.4.59->lmnr[langchain]>=0.4.59->browser-use==0.1.37->ag2[browser-use,openai]) (0.4.9)\n",
            "Requirement already satisfied: opentelemetry-instrumentation-langchain>=0.40.5 in /usr/local/lib/python3.11/dist-packages (from lmnr[langchain]>=0.4.59->browser-use==0.1.37->ag2[browser-use,openai]) (0.40.9)\n",
            "Requirement already satisfied: trafilatura>=1.6.2 in /usr/local/lib/python3.11/dist-packages (from maincontentextractor>=0.0.4->browser-use==0.1.37->ag2[browser-use,openai]) (2.0.0)\n",
            "Requirement already satisfied: html2text>=2020.1.16 in /usr/local/lib/python3.11/dist-packages (from maincontentextractor>=0.0.4->browser-use==0.1.37->ag2[browser-use,openai]) (2025.4.15)\n",
            "Requirement already satisfied: pyee<14,>=13 in /usr/local/lib/python3.11/dist-packages (from playwright>=1.49.0->browser-use==0.1.37->ag2[browser-use,openai]) (13.0.0)\n",
            "Requirement already satisfied: greenlet<4.0.0,>=3.1.1 in /usr/local/lib/python3.11/dist-packages (from playwright>=1.49.0->browser-use==0.1.37->ag2[browser-use,openai]) (3.2.2)\n",
            "Requirement already satisfied: python-dateutil>=2.2 in /usr/local/lib/python3.11/dist-packages (from posthog>=3.7.0->browser-use==0.1.37->ag2[browser-use,openai]) (2.9.0.post0)\n",
            "Requirement already satisfied: backoff>=1.10.0 in /usr/local/lib/python3.11/dist-packages (from posthog>=3.7.0->browser-use==0.1.37->ag2[browser-use,openai]) (2.2.1)\n",
            "Requirement already satisfied: charset-normalizer<4,>=2 in /usr/local/lib/python3.11/dist-packages (from requests>=2.32.3->browser-use==0.1.37->ag2[browser-use,openai]) (3.4.2)\n",
            "Requirement already satisfied: aiohappyeyeballs>=2.3.0 in /usr/local/lib/python3.11/dist-packages (from aiohttp<4.0.0,>=3.8.3->langchain==0.3.14->browser-use==0.1.37->ag2[browser-use,openai]) (2.6.1)\n",
            "Requirement already satisfied: aiosignal>=1.1.2 in /usr/local/lib/python3.11/dist-packages (from aiohttp<4.0.0,>=3.8.3->langchain==0.3.14->browser-use==0.1.37->ag2[browser-use,openai]) (1.3.2)\n",
            "Requirement already satisfied: attrs>=17.3.0 in /usr/local/lib/python3.11/dist-packages (from aiohttp<4.0.0,>=3.8.3->langchain==0.3.14->browser-use==0.1.37->ag2[browser-use,openai]) (25.3.0)\n",
            "Requirement already satisfied: frozenlist>=1.1.1 in /usr/local/lib/python3.11/dist-packages (from aiohttp<4.0.0,>=3.8.3->langchain==0.3.14->browser-use==0.1.37->ag2[browser-use,openai]) (1.6.0)\n",
            "Requirement already satisfied: multidict<7.0,>=4.5 in /usr/local/lib/python3.11/dist-packages (from aiohttp<4.0.0,>=3.8.3->langchain==0.3.14->browser-use==0.1.37->ag2[browser-use,openai]) (6.4.4)\n",
            "Requirement already satisfied: propcache>=0.2.0 in /usr/local/lib/python3.11/dist-packages (from aiohttp<4.0.0,>=3.8.3->langchain==0.3.14->browser-use==0.1.37->ag2[browser-use,openai]) (0.3.1)\n",
            "Requirement already satisfied: yarl<2.0,>=1.17.0 in /usr/local/lib/python3.11/dist-packages (from aiohttp<4.0.0,>=3.8.3->langchain==0.3.14->browser-use==0.1.37->ag2[browser-use,openai]) (1.20.0)\n",
            "Requirement already satisfied: botocore<1.39.0,>=1.38.33 in /usr/local/lib/python3.11/dist-packages (from boto3>=1.37.24->langchain-aws>=0.2.11->browser-use==0.1.37->ag2[browser-use,openai]) (1.38.33)\n",
            "Requirement already satisfied: jmespath<2.0.0,>=0.7.1 in /usr/local/lib/python3.11/dist-packages (from boto3>=1.37.24->langchain-aws>=0.2.11->browser-use==0.1.37->ag2[browser-use,openai]) (1.0.1)\n",
            "Requirement already satisfied: s3transfer<0.14.0,>=0.13.0 in /usr/local/lib/python3.11/dist-packages (from boto3>=1.37.24->langchain-aws>=0.2.11->browser-use==0.1.37->ag2[browser-use,openai]) (0.13.0)\n",
            "Requirement already satisfied: httpx-ws in /usr/local/lib/python3.11/dist-packages (from fireworks-ai>=0.13.0->langchain-fireworks>=0.2.6->browser-use==0.1.37->ag2[browser-use,openai]) (0.7.2)\n",
            "Requirement already satisfied: httpx-sse in /usr/local/lib/python3.11/dist-packages (from fireworks-ai>=0.13.0->langchain-fireworks>=0.2.6->browser-use==0.1.37->ag2[browser-use,openai]) (0.4.0)\n",
            "Requirement already satisfied: Pillow in /usr/local/lib/python3.11/dist-packages (from fireworks-ai>=0.13.0->langchain-fireworks>=0.2.6->browser-use==0.1.37->ag2[browser-use,openai]) (11.2.1)\n",
            "Requirement already satisfied: mmh3>=4.1.0 in /usr/local/lib/python3.11/dist-packages (from fireworks-ai>=0.13.0->langchain-fireworks>=0.2.6->browser-use==0.1.37->ag2[browser-use,openai]) (5.1.0)\n",
            "Requirement already satisfied: betterproto-fw>=2.0.3 in /usr/local/lib/python3.11/dist-packages (from betterproto-fw[compiler]>=2.0.3->fireworks-ai>=0.13.0->langchain-fireworks>=0.2.6->browser-use==0.1.37->ag2[browser-use,openai]) (2.0.3)\n",
            "Requirement already satisfied: asyncstdlib-fw>=3.13.2 in /usr/local/lib/python3.11/dist-packages (from fireworks-ai>=0.13.0->langchain-fireworks>=0.2.6->browser-use==0.1.37->ag2[browser-use,openai]) (3.13.2)\n",
            "Requirement already satisfied: protobuf==5.29.4 in /usr/local/lib/python3.11/dist-packages (from fireworks-ai>=0.13.0->langchain-fireworks>=0.2.6->browser-use==0.1.37->ag2[browser-use,openai]) (5.29.4)\n",
            "Requirement already satisfied: rich>=14.0.0 in /usr/local/lib/python3.11/dist-packages (from fireworks-ai>=0.13.0->langchain-fireworks>=0.2.6->browser-use==0.1.37->ag2[browser-use,openai]) (14.0.0)\n",
            "Requirement already satisfied: google-ai-generativelanguage==0.6.15 in /usr/local/lib/python3.11/dist-packages (from google-generativeai<0.9.0,>=0.8.0->langchain-google-genai==2.0.8->browser-use==0.1.37->ag2[browser-use,openai]) (0.6.15)\n",
            "Requirement already satisfied: google-api-core in /usr/local/lib/python3.11/dist-packages (from google-generativeai<0.9.0,>=0.8.0->langchain-google-genai==2.0.8->browser-use==0.1.37->ag2[browser-use,openai]) (2.25.0)\n",
            "Requirement already satisfied: google-api-python-client in /usr/local/lib/python3.11/dist-packages (from google-generativeai<0.9.0,>=0.8.0->langchain-google-genai==2.0.8->browser-use==0.1.37->ag2[browser-use,openai]) (2.171.0)\n",
            "Requirement already satisfied: google-auth>=2.15.0 in /usr/local/lib/python3.11/dist-packages (from google-generativeai<0.9.0,>=0.8.0->langchain-google-genai==2.0.8->browser-use==0.1.37->ag2[browser-use,openai]) (2.38.0)\n",
            "Requirement already satisfied: proto-plus<2.0.0dev,>=1.22.3 in /usr/local/lib/python3.11/dist-packages (from google-ai-generativelanguage==0.6.15->google-generativeai<0.9.0,>=0.8.0->langchain-google-genai==2.0.8->browser-use==0.1.37->ag2[browser-use,openai]) (1.26.1)\n",
            "Requirement already satisfied: jsonpatch<2.0,>=1.33 in /usr/local/lib/python3.11/dist-packages (from langchain-core<0.4.0,>=0.3.29->langchain==0.3.14->browser-use==0.1.37->ag2[browser-use,openai]) (1.33)\n",
            "Requirement already satisfied: orjson<4.0.0,>=3.9.14 in /usr/local/lib/python3.11/dist-packages (from langsmith<0.3,>=0.1.17->langchain==0.3.14->browser-use==0.1.37->ag2[browser-use,openai]) (3.10.18)\n",
            "Requirement already satisfied: requests-toolbelt<2.0.0,>=1.0.0 in /usr/local/lib/python3.11/dist-packages (from langsmith<0.3,>=0.1.17->langchain==0.3.14->browser-use==0.1.37->ag2[browser-use,openai]) (1.0.0)\n",
            "Requirement already satisfied: importlib-metadata<8.8.0,>=6.0 in /usr/local/lib/python3.11/dist-packages (from opentelemetry-api>=1.33.0->lmnr>=0.4.59->lmnr[langchain]>=0.4.59->browser-use==0.1.37->ag2[browser-use,openai]) (8.7.0)\n",
            "Requirement already satisfied: googleapis-common-protos~=1.52 in /usr/local/lib/python3.11/dist-packages (from opentelemetry-exporter-otlp-proto-grpc>=1.33.0->lmnr>=0.4.59->lmnr[langchain]>=0.4.59->browser-use==0.1.37->ag2[browser-use,openai]) (1.70.0)\n",
            "Requirement already satisfied: opentelemetry-exporter-otlp-proto-common==1.34.1 in /usr/local/lib/python3.11/dist-packages (from opentelemetry-exporter-otlp-proto-grpc>=1.33.0->lmnr>=0.4.59->lmnr[langchain]>=0.4.59->browser-use==0.1.37->ag2[browser-use,openai]) (1.34.1)\n",
            "Requirement already satisfied: opentelemetry-proto==1.34.1 in /usr/local/lib/python3.11/dist-packages (from opentelemetry-exporter-otlp-proto-grpc>=1.33.0->lmnr>=0.4.59->lmnr[langchain]>=0.4.59->browser-use==0.1.37->ag2[browser-use,openai]) (1.34.1)\n",
            "Requirement already satisfied: opentelemetry-instrumentation>=0.50b0 in /usr/local/lib/python3.11/dist-packages (from opentelemetry-instrumentation-langchain>=0.40.5->lmnr[langchain]>=0.4.59->browser-use==0.1.37->ag2[browser-use,openai]) (0.55b1)\n",
            "Requirement already satisfied: wrapt<2.0.0,>=1.0.0 in /usr/local/lib/python3.11/dist-packages (from opentelemetry-instrumentation-threading>=0.54b0->lmnr>=0.4.59->lmnr[langchain]>=0.4.59->browser-use==0.1.37->ag2[browser-use,openai]) (1.17.2)\n",
            "Requirement already satisfied: courlan>=1.3.2 in /usr/local/lib/python3.11/dist-packages (from trafilatura>=1.6.2->maincontentextractor>=0.0.4->browser-use==0.1.37->ag2[browser-use,openai]) (1.3.2)\n",
            "Requirement already satisfied: htmldate>=1.9.2 in /usr/local/lib/python3.11/dist-packages (from trafilatura>=1.6.2->maincontentextractor>=0.0.4->browser-use==0.1.37->ag2[browser-use,openai]) (1.9.3)\n",
            "Requirement already satisfied: justext>=3.0.1 in /usr/local/lib/python3.11/dist-packages (from trafilatura>=1.6.2->maincontentextractor>=0.0.4->browser-use==0.1.37->ag2[browser-use,openai]) (3.0.2)\n",
            "Requirement already satisfied: lxml>=5.3.0 in /usr/local/lib/python3.11/dist-packages (from trafilatura>=1.6.2->maincontentextractor>=0.0.4->browser-use==0.1.37->ag2[browser-use,openai]) (5.4.0)\n",
            "Requirement already satisfied: grpclib<0.5.0,>=0.4.1 in /usr/local/lib/python3.11/dist-packages (from betterproto-fw>=2.0.3->betterproto-fw[compiler]>=2.0.3->fireworks-ai>=0.13.0->langchain-fireworks>=0.2.6->browser-use==0.1.37->ag2[browser-use,openai]) (0.4.8)\n",
            "Requirement already satisfied: ruff~=0.9.1 in /usr/local/lib/python3.11/dist-packages (from betterproto-fw[compiler]>=2.0.3->fireworks-ai>=0.13.0->langchain-fireworks>=0.2.6->browser-use==0.1.37->ag2[browser-use,openai]) (0.9.10)\n",
            "Requirement already satisfied: jinja2>=3.0.3 in /usr/local/lib/python3.11/dist-packages (from betterproto-fw[compiler]>=2.0.3->fireworks-ai>=0.13.0->langchain-fireworks>=0.2.6->browser-use==0.1.37->ag2[browser-use,openai]) (3.1.6)\n",
            "Requirement already satisfied: babel>=2.16.0 in /usr/local/lib/python3.11/dist-packages (from courlan>=1.3.2->trafilatura>=1.6.2->maincontentextractor>=0.0.4->browser-use==0.1.37->ag2[browser-use,openai]) (2.17.0)\n",
            "Requirement already satisfied: tld>=0.13 in /usr/local/lib/python3.11/dist-packages (from courlan>=1.3.2->trafilatura>=1.6.2->maincontentextractor>=0.0.4->browser-use==0.1.37->ag2[browser-use,openai]) (0.13.1)\n",
            "Requirement already satisfied: cachetools<6.0,>=2.0.0 in /usr/local/lib/python3.11/dist-packages (from google-auth>=2.15.0->google-generativeai<0.9.0,>=0.8.0->langchain-google-genai==2.0.8->browser-use==0.1.37->ag2[browser-use,openai]) (5.5.2)\n",
            "Requirement already satisfied: pyasn1-modules>=0.2.1 in /usr/local/lib/python3.11/dist-packages (from google-auth>=2.15.0->google-generativeai<0.9.0,>=0.8.0->langchain-google-genai==2.0.8->browser-use==0.1.37->ag2[browser-use,openai]) (0.4.2)\n",
            "Requirement already satisfied: rsa<5,>=3.1.4 in /usr/local/lib/python3.11/dist-packages (from google-auth>=2.15.0->google-generativeai<0.9.0,>=0.8.0->langchain-google-genai==2.0.8->browser-use==0.1.37->ag2[browser-use,openai]) (4.9.1)\n",
            "Requirement already satisfied: dateparser>=1.1.2 in /usr/local/lib/python3.11/dist-packages (from htmldate>=1.9.2->trafilatura>=1.6.2->maincontentextractor>=0.0.4->browser-use==0.1.37->ag2[browser-use,openai]) (1.2.1)\n",
            "Requirement already satisfied: zipp>=3.20 in /usr/local/lib/python3.11/dist-packages (from importlib-metadata<8.8.0,>=6.0->opentelemetry-api>=1.33.0->lmnr>=0.4.59->lmnr[langchain]>=0.4.59->browser-use==0.1.37->ag2[browser-use,openai]) (3.22.0)\n",
            "Requirement already satisfied: jsonpointer>=1.9 in /usr/local/lib/python3.11/dist-packages (from jsonpatch<2.0,>=1.33->langchain-core<0.4.0,>=0.3.29->langchain==0.3.14->browser-use==0.1.37->ag2[browser-use,openai]) (3.0.0)\n",
            "Requirement already satisfied: markdown-it-py>=2.2.0 in /usr/local/lib/python3.11/dist-packages (from rich>=14.0.0->fireworks-ai>=0.13.0->langchain-fireworks>=0.2.6->browser-use==0.1.37->ag2[browser-use,openai]) (3.0.0)\n",
            "Requirement already satisfied: pygments<3.0.0,>=2.13.0 in /usr/local/lib/python3.11/dist-packages (from rich>=14.0.0->fireworks-ai>=0.13.0->langchain-fireworks>=0.2.6->browser-use==0.1.37->ag2[browser-use,openai]) (2.19.1)\n",
            "Requirement already satisfied: httplib2<1.0.0,>=0.19.0 in /usr/local/lib/python3.11/dist-packages (from google-api-python-client->google-generativeai<0.9.0,>=0.8.0->langchain-google-genai==2.0.8->browser-use==0.1.37->ag2[browser-use,openai]) (0.22.0)\n",
            "Requirement already satisfied: google-auth-httplib2<1.0.0,>=0.2.0 in /usr/local/lib/python3.11/dist-packages (from google-api-python-client->google-generativeai<0.9.0,>=0.8.0->langchain-google-genai==2.0.8->browser-use==0.1.37->ag2[browser-use,openai]) (0.2.0)\n",
            "Requirement already satisfied: uritemplate<5,>=3.0.1 in /usr/local/lib/python3.11/dist-packages (from google-api-python-client->google-generativeai<0.9.0,>=0.8.0->langchain-google-genai==2.0.8->browser-use==0.1.37->ag2[browser-use,openai]) (4.2.0)\n",
            "Requirement already satisfied: wsproto in /usr/local/lib/python3.11/dist-packages (from httpx-ws->fireworks-ai>=0.13.0->langchain-fireworks>=0.2.6->browser-use==0.1.37->ag2[browser-use,openai]) (1.2.0)\n",
            "Requirement already satisfied: pytz>=2024.2 in /usr/local/lib/python3.11/dist-packages (from dateparser>=1.1.2->htmldate>=1.9.2->trafilatura>=1.6.2->maincontentextractor>=0.0.4->browser-use==0.1.37->ag2[browser-use,openai]) (2025.2)\n",
            "Requirement already satisfied: tzlocal>=0.2 in /usr/local/lib/python3.11/dist-packages (from dateparser>=1.1.2->htmldate>=1.9.2->trafilatura>=1.6.2->maincontentextractor>=0.0.4->browser-use==0.1.37->ag2[browser-use,openai]) (5.3.1)\n",
            "Requirement already satisfied: grpcio-status<2.0.0,>=1.33.2 in /usr/local/lib/python3.11/dist-packages (from google-api-core[grpc]!=2.0.*,!=2.1.*,!=2.10.*,!=2.2.*,!=2.3.*,!=2.4.*,!=2.5.*,!=2.6.*,!=2.7.*,!=2.8.*,!=2.9.*,<3.0.0dev,>=1.34.1->google-ai-generativelanguage==0.6.15->google-generativeai<0.9.0,>=0.8.0->langchain-google-genai==2.0.8->browser-use==0.1.37->ag2[browser-use,openai]) (1.71.0)\n",
            "Requirement already satisfied: h2<5,>=3.1.0 in /usr/local/lib/python3.11/dist-packages (from grpclib<0.5.0,>=0.4.1->betterproto-fw>=2.0.3->betterproto-fw[compiler]>=2.0.3->fireworks-ai>=0.13.0->langchain-fireworks>=0.2.6->browser-use==0.1.37->ag2[browser-use,openai]) (4.2.0)\n",
            "Requirement already satisfied: pyparsing!=3.0.0,!=3.0.1,!=3.0.2,!=3.0.3,<4,>=2.4.2 in /usr/local/lib/python3.11/dist-packages (from httplib2<1.0.0,>=0.19.0->google-api-python-client->google-generativeai<0.9.0,>=0.8.0->langchain-google-genai==2.0.8->browser-use==0.1.37->ag2[browser-use,openai]) (3.2.3)\n",
            "Requirement already satisfied: MarkupSafe>=2.0 in /usr/local/lib/python3.11/dist-packages (from jinja2>=3.0.3->betterproto-fw[compiler]>=2.0.3->fireworks-ai>=0.13.0->langchain-fireworks>=0.2.6->browser-use==0.1.37->ag2[browser-use,openai]) (3.0.2)\n",
            "Requirement already satisfied: lxml_html_clean in /usr/local/lib/python3.11/dist-packages (from lxml[html_clean]>=4.4.2->justext>=3.0.1->trafilatura>=1.6.2->maincontentextractor>=0.0.4->browser-use==0.1.37->ag2[browser-use,openai]) (0.4.2)\n",
            "Requirement already satisfied: mdurl~=0.1 in /usr/local/lib/python3.11/dist-packages (from markdown-it-py>=2.2.0->rich>=14.0.0->fireworks-ai>=0.13.0->langchain-fireworks>=0.2.6->browser-use==0.1.37->ag2[browser-use,openai]) (0.1.2)\n",
            "Requirement already satisfied: pyasn1<0.7.0,>=0.6.1 in /usr/local/lib/python3.11/dist-packages (from pyasn1-modules>=0.2.1->google-auth>=2.15.0->google-generativeai<0.9.0,>=0.8.0->langchain-google-genai==2.0.8->browser-use==0.1.37->ag2[browser-use,openai]) (0.6.1)\n",
            "Requirement already satisfied: hyperframe<7,>=6.1 in /usr/local/lib/python3.11/dist-packages (from h2<5,>=3.1.0->grpclib<0.5.0,>=0.4.1->betterproto-fw>=2.0.3->betterproto-fw[compiler]>=2.0.3->fireworks-ai>=0.13.0->langchain-fireworks>=0.2.6->browser-use==0.1.37->ag2[browser-use,openai]) (6.1.0)\n",
            "Requirement already satisfied: hpack<5,>=4.1 in /usr/local/lib/python3.11/dist-packages (from h2<5,>=3.1.0->grpclib<0.5.0,>=0.4.1->betterproto-fw>=2.0.3->betterproto-fw[compiler]>=2.0.3->fireworks-ai>=0.13.0->langchain-fireworks>=0.2.6->browser-use==0.1.37->ag2[browser-use,openai]) (4.1.0)\n",
            "Using cached argparse-1.4.0-py2.py3-none-any.whl (23 kB)\n",
            "Installing collected packages: argparse\n",
            "Successfully installed argparse-1.4.0\n"
          ]
        },
        {
          "output_type": "display_data",
          "data": {
            "application/vnd.colab-display-data+json": {
              "pip_warning": {
                "packages": [
                  "argparse"
                ]
              },
              "id": "b72a7a341fa347e1ba0c6fca48c7df13"
            }
          },
          "metadata": {}
        }
      ]
    },
    {
      "cell_type": "markdown",
      "source": [
        "Setup `playwright`\n",
        "\n",
        "`Playwright` is a Node.js library developed by Microsoft for automating web browsers (Chromium, Firefox, and WebKit) to perform actions like navigation, clicking, and form submission. It is primarily used for tasks such as:\n",
        "\n",
        "* End-to-end testing: Automating UI tests to ensure the quality of web applications.\n",
        "* Web scraping: Extracting data from websites automatically.\n",
        "* Automating web interactions: Performing repetitive tasks like filling forms or taking screenshots."
      ],
      "metadata": {
        "id": "oxb8-ZkwKrCD"
      }
    },
    {
      "cell_type": "code",
      "source": [
        "!pip install playwright\n",
        "!playwright install\n",
        "# Additional command, mandatory for Linux only\n",
        "!playwright install-deps\n",
        "#playwright install-deps"
      ],
      "metadata": {
        "colab": {
          "base_uri": "https://localhost:8080/"
        },
        "id": "X22244q0KtAn",
        "outputId": "593bbb62-3b10-4c00-bb49-9d52b4bee406"
      },
      "execution_count": 3,
      "outputs": [
        {
          "output_type": "stream",
          "name": "stdout",
          "text": [
            "Requirement already satisfied: playwright in /usr/local/lib/python3.11/dist-packages (1.52.0)\n",
            "Requirement already satisfied: pyee<14,>=13 in /usr/local/lib/python3.11/dist-packages (from playwright) (13.0.0)\n",
            "Requirement already satisfied: greenlet<4.0.0,>=3.1.1 in /usr/local/lib/python3.11/dist-packages (from playwright) (3.2.2)\n",
            "Requirement already satisfied: typing-extensions in /usr/local/lib/python3.11/dist-packages (from pyee<14,>=13->playwright) (4.14.0)\n",
            "Installing dependencies...\n",
            "Hit:1 http://archive.ubuntu.com/ubuntu jammy InRelease\n",
            "Hit:2 http://archive.ubuntu.com/ubuntu jammy-updates InRelease\n",
            "Hit:3 http://archive.ubuntu.com/ubuntu jammy-backports InRelease\n",
            "Hit:4 https://developer.download.nvidia.com/compute/cuda/repos/ubuntu2204/x86_64  InRelease\n",
            "Get:5 http://security.ubuntu.com/ubuntu jammy-security InRelease [129 kB]\n",
            "Hit:6 https://cloud.r-project.org/bin/linux/ubuntu jammy-cran40/ InRelease\n",
            "Get:7 https://r2u.stat.illinois.edu/ubuntu jammy InRelease [6,555 B]\n",
            "Hit:8 https://ppa.launchpadcontent.net/deadsnakes/ppa/ubuntu jammy InRelease\n",
            "Hit:9 https://ppa.launchpadcontent.net/graphics-drivers/ppa/ubuntu jammy InRelease\n",
            "Hit:10 https://ppa.launchpadcontent.net/ubuntugis/ppa/ubuntu jammy InRelease\n",
            "Get:11 https://r2u.stat.illinois.edu/ubuntu jammy/main amd64 Packages [2,742 kB]\n",
            "Get:12 https://r2u.stat.illinois.edu/ubuntu jammy/main all Packages [9,021 kB]\n",
            "Fetched 11.9 MB in 3s (4,056 kB/s)\n",
            "Reading package lists... Done\n",
            "W: Skipping acquire of configured file 'main/source/Sources' as repository 'https://r2u.stat.illinois.edu/ubuntu jammy InRelease' does not seem to provide it (sources.list entry misspelt?)\n",
            "Reading package lists... Done\n",
            "Building dependency tree... Done\n",
            "Reading state information... Done\n",
            "fonts-freefont-ttf is already the newest version (20120503-10build1).\n",
            "fonts-liberation is already the newest version (1:1.07.4-11).\n",
            "libasound2 is already the newest version (1.2.6.1-1ubuntu1).\n",
            "libatk-bridge2.0-0 is already the newest version (2.38.0-3).\n",
            "libatk1.0-0 is already the newest version (2.36.0-3build1).\n",
            "libatspi2.0-0 is already the newest version (2.44.0-3).\n",
            "libcairo-gobject2 is already the newest version (1.16.0-5ubuntu2).\n",
            "libcairo2 is already the newest version (1.16.0-5ubuntu2).\n",
            "libdbus-glib-1-2 is already the newest version (0.112-2build1).\n",
            "libegl1 is already the newest version (1.4.0-1).\n",
            "libenchant-2-2 is already the newest version (2.3.2-1ubuntu2).\n",
            "libepoxy0 is already the newest version (1.5.10-1).\n",
            "libevdev2 is already the newest version (1.12.1+dfsg-1).\n",
            "libevent-2.1-7 is already the newest version (2.1.12-stable-1build3).\n",
            "libfontconfig1 is already the newest version (2.13.1-4.2ubuntu5).\n",
            "libgles2 is already the newest version (1.4.0-1).\n",
            "libglx0 is already the newest version (1.4.0-1).\n",
            "libgudev-1.0-0 is already the newest version (1:237-2build1).\n",
            "libhyphen0 is already the newest version (2.8.8-7build2).\n",
            "libicu70 is already the newest version (70.1-2).\n",
            "libjpeg-turbo8 is already the newest version (2.1.2-0ubuntu1).\n",
            "liblcms2-2 is already the newest version (2.12~rc1-2build2).\n",
            "libmanette-0.2-0 is already the newest version (0.2.6-3build1).\n",
            "libopengl0 is already the newest version (1.4.0-1).\n",
            "libopus0 is already the newest version (1.3.1-0.1build2).\n",
            "libpng16-16 is already the newest version (1.6.37-3build5).\n",
            "libproxy1v5 is already the newest version (0.4.17-2).\n",
            "libsecret-1-0 is already the newest version (0.20.5-2).\n",
            "libwoff1 is already the newest version (1.0.2-1build4).\n",
            "libxcb-shm0 is already the newest version (1.14-3ubuntu3).\n",
            "libxcb1 is already the newest version (1.14-3ubuntu3).\n",
            "libxcomposite1 is already the newest version (1:0.4.5-1build2).\n",
            "libxcursor1 is already the newest version (1:1.2.0-2build4).\n",
            "libxdamage1 is already the newest version (1:1.1.5-2build2).\n",
            "libxext6 is already the newest version (2:1.3.4-1build1).\n",
            "libxfixes3 is already the newest version (1:6.0.0-1).\n",
            "libxi6 is already the newest version (2:1.8-1build1).\n",
            "libxkbcommon0 is already the newest version (1.4.0-1).\n",
            "libxrandr2 is already the newest version (2:1.5.2-1build1).\n",
            "libxrender1 is already the newest version (1:0.9.10-1build4).\n",
            "libxtst6 is already the newest version (2:1.2.3-1build4).\n",
            "xfonts-scalable is already the newest version (1:1.0.3-1.2ubuntu1).\n",
            "fonts-ipafont-gothic is already the newest version (00303-21ubuntu1).\n",
            "fonts-tlwg-loma-otf is already the newest version (1:0.7.3-1).\n",
            "fonts-unifont is already the newest version (1:14.0.01-1).\n",
            "fonts-wqy-zenhei is already the newest version (0.9.45-8).\n",
            "libavif13 is already the newest version (0.9.3-3).\n",
            "libffi7 is already the newest version (3.3-5ubuntu1).\n",
            "libx264-163 is already the newest version (2:0.163.3060+git5db6aa6-2build1).\n",
            "xfonts-cyrillic is already the newest version (1:1.0.5).\n",
            "fonts-noto-color-emoji is already the newest version (2.047-0ubuntu0.22.04.1).\n",
            "gstreamer1.0-plugins-base is already the newest version (1.20.1-1ubuntu0.4).\n",
            "gstreamer1.0-plugins-good is already the newest version (1.20.3-0ubuntu1.3).\n",
            "libatomic1 is already the newest version (12.3.0-1ubuntu1~22.04).\n",
            "libcups2 is already the newest version (2.4.1op1-1ubuntu4.11).\n",
            "libdbus-1-3 is already the newest version (1.12.20-2ubuntu4.1).\n",
            "libdrm2 is already the newest version (2.4.113-2~ubuntu0.22.04.1).\n",
            "libfreetype6 is already the newest version (2.11.1+dfsg-1ubuntu0.3).\n",
            "libgbm1 is already the newest version (23.2.1-1ubuntu3.1~22.04.3).\n",
            "libgdk-pixbuf-2.0-0 is already the newest version (2.42.8+dfsg-1ubuntu0.3).\n",
            "libglib2.0-0 is already the newest version (2.72.4-0ubuntu2.5).\n",
            "libgstreamer-gl1.0-0 is already the newest version (1.20.1-1ubuntu0.4).\n",
            "libgstreamer-plugins-base1.0-0 is already the newest version (1.20.1-1ubuntu0.4).\n",
            "libgstreamer1.0-0 is already the newest version (1.20.3-0ubuntu1.1).\n",
            "libgtk-3-0 is already the newest version (3.24.33-1ubuntu2.2).\n",
            "libgtk-4-1 is already the newest version (4.6.9+ds-0ubuntu0.22.04.2).\n",
            "libharfbuzz-icu0 is already the newest version (2.7.4-1ubuntu3.2).\n",
            "libharfbuzz0b is already the newest version (2.7.4-1ubuntu3.2).\n",
            "libnotify4 is already the newest version (0.7.9-3ubuntu5.22.04.1).\n",
            "libnspr4 is already the newest version (2:4.35-0ubuntu0.22.04.1).\n",
            "libnss3 is already the newest version (2:3.98-0ubuntu0.22.04.2).\n",
            "libopenjp2-7 is already the newest version (2.4.0-6ubuntu0.3).\n",
            "libpango-1.0-0 is already the newest version (1.50.6+ds-2ubuntu1).\n",
            "libpangocairo-1.0-0 is already the newest version (1.50.6+ds-2ubuntu1).\n",
            "libwayland-client0 is already the newest version (1.20.0-1ubuntu0.1).\n",
            "libwayland-egl1 is already the newest version (1.20.0-1ubuntu0.1).\n",
            "libwayland-server0 is already the newest version (1.20.0-1ubuntu0.1).\n",
            "libwebpdemux2 is already the newest version (1.2.2-2ubuntu0.22.04.2).\n",
            "libx11-6 is already the newest version (2:1.7.5-1ubuntu0.3).\n",
            "libx11-xcb1 is already the newest version (2:1.7.5-1ubuntu0.3).\n",
            "libxml2 is already the newest version (2.9.13+dfsg-1ubuntu0.7).\n",
            "libxslt1.1 is already the newest version (1.1.34-4ubuntu0.22.04.3).\n",
            "ffmpeg is already the newest version (7:4.4.2-0ubuntu0.22.04.1).\n",
            "gstreamer1.0-libav is already the newest version (1.20.3-0ubuntu1).\n",
            "gstreamer1.0-plugins-bad is already the newest version (1.20.3-0ubuntu1.1).\n",
            "libsoup-3.0-0 is already the newest version (3.0.7-0ubuntu1).\n",
            "xvfb is already the newest version (2:21.1.4-2ubuntu1.7~22.04.14).\n",
            "0 upgraded, 0 newly installed, 0 to remove and 42 not upgraded.\n"
          ]
        }
      ]
    },
    {
      "cell_type": "markdown",
      "source": [
        "Install nest_asyncio to allow nested event loops\n",
        "\n",
        "`Asynchronous Operations` in Agentic Systems\n",
        "In agentic systems, which involve independent agents acting and reacting within an environment, asynchronous operations refer to tasks that can be executed concurrently without blocking the execution of other tasks. This is in contrast to synchronous operations, where one task must complete before the next can begin.\n",
        "\n",
        "Think of it like this:\n",
        "\n",
        "`Synchronous operation`: You order food at a restaurant. You have to wait for your food to be prepared and served before you can start eating.\n",
        "\n",
        "`Asynchronous operation`: You send an email. You don't have to wait for the recipient to read the email before continuing with other tasks."
      ],
      "metadata": {
        "id": "3FeUcNnTLIL-"
      }
    },
    {
      "cell_type": "code",
      "source": [
        "pip install nest_asyncio"
      ],
      "metadata": {
        "colab": {
          "base_uri": "https://localhost:8080/"
        },
        "id": "8dKUmgn9LTlK",
        "outputId": "65ca1d9b-cb23-4e59-ce54-5e2f502a9206"
      },
      "execution_count": 4,
      "outputs": [
        {
          "output_type": "stream",
          "name": "stdout",
          "text": [
            "Requirement already satisfied: nest_asyncio in /usr/local/lib/python3.11/dist-packages (1.6.0)\n"
          ]
        }
      ]
    },
    {
      "cell_type": "markdown",
      "source": [
        "Import other packages"
      ],
      "metadata": {
        "id": "tW4j0mLQL803"
      }
    },
    {
      "cell_type": "code",
      "source": [
        "import os\n",
        "import nest_asyncio\n",
        "from autogen.agents.experimental import DeepResearchAgent"
      ],
      "metadata": {
        "id": "4oKn1ERtL-i_"
      },
      "execution_count": 5,
      "outputs": []
    },
    {
      "cell_type": "markdown",
      "source": [
        "Asynchronous calls"
      ],
      "metadata": {
        "id": "PrDxY4XDMK7R"
      }
    },
    {
      "cell_type": "code",
      "source": [
        "nest_asyncio.apply()"
      ],
      "metadata": {
        "id": "YpXQTgkcMMig"
      },
      "execution_count": 6,
      "outputs": []
    },
    {
      "cell_type": "markdown",
      "source": [
        "Store and get Open API key in Google Colab (in secrets tab)\n",
        "\n",
        "Then get it and save it as an environment variable"
      ],
      "metadata": {
        "id": "DEViKNI3MTZz"
      }
    },
    {
      "cell_type": "code",
      "source": [
        "from google.colab import userdata\n",
        "import os\n",
        "\n",
        "OPENAI_API_KEY = userdata.get(\"OPENAI_API_KEY\")\n",
        "os.environ[\"OPENAI_API_KEY\"] = OPENAI_API_KEY"
      ],
      "metadata": {
        "id": "3JxTpITmMldP"
      },
      "execution_count": 7,
      "outputs": []
    },
    {
      "cell_type": "markdown",
      "source": [
        "Create an LLM configuration file"
      ],
      "metadata": {
        "id": "THqlk2MXNLTo"
      }
    },
    {
      "cell_type": "code",
      "source": [
        "llm_config = {\n",
        "    \"config_list\": [\n",
        "                     {\n",
        "                     \"model\": \"gpt-4o-mini\",\n",
        "                     \"api_key\": OPENAI_API_KEY,\n",
        "                     \"api_type\": \"openai\"\n",
        "                     }\n",
        "                    ]\n",
        "}\n"
      ],
      "metadata": {
        "id": "ybkF_30UNNvE"
      },
      "execution_count": 14,
      "outputs": []
    },
    {
      "cell_type": "markdown",
      "source": [
        "Create deep research agent"
      ],
      "metadata": {
        "id": "xDIdeObNPDTd"
      }
    },
    {
      "cell_type": "code",
      "source": [
        "agent = DeepResearchAgent(\n",
        "    name = \"DeepResearchAgentScifi\",\n",
        "    llm_config = llm_config\n",
        ")"
      ],
      "metadata": {
        "id": "Y71wmKbwPF5d"
      },
      "execution_count": 15,
      "outputs": []
    },
    {
      "cell_type": "markdown",
      "source": [
        "Call the agent"
      ],
      "metadata": {
        "id": "wk_CLVupRMma"
      }
    },
    {
      "cell_type": "markdown",
      "source": [
        "Deepresearch scifi to re-envision life as we do *not* know it"
      ],
      "metadata": {
        "id": "FfIFPv0b0ERp"
      }
    },
    {
      "cell_type": "code",
      "source": [
        "str_prompt = \"You are a research assistant. Design a spacecraft that is cost effective and resilient like Voyager. This should be cost-effective. It should be feasible to build this spacecraft using technology available today. It should have a simple propulsion system. It should be AI enabled. The aim is to explore the region beyond the heliosphere and the heliosheath. It should be designed to last 100 years. The ultimate aim is to build a low-cost AI enabled Bracewell probe. Give me design considerations, costs and design of subsystems, and propulsion systems (chemical rockets, solar sails, etc.)\"\n",
        "\n",
        "i_MAX_TURNS = 100\n",
        "\n",
        "run_agent = agent.run(\n",
        "    message = str_prompt,\n",
        "    tools = agent.tools,\n",
        "    max_turns = i_MAX_TURNS,\n",
        "    user_input = True,\n",
        "    summary_method = \"reflection_with_llm\"\n",
        ")\n",
        "\n",
        "output = run_agent.process()\n",
        "\n",
        "print(output)\n"
      ],
      "metadata": {
        "id": "pRKrcXj-0NNZ",
        "colab": {
          "base_uri": "https://localhost:8080/"
        },
        "outputId": "b2ab2075-a5c6-4a53-ee72-b41212ddb796"
      },
      "execution_count": null,
      "outputs": [
        {
          "output_type": "stream",
          "name": "stdout",
          "text": [
            "user (to DeepResearchAgentScifi):\n",
            "\n",
            "You are a research assistant. Design a spacecraft that is cost effective and resilient like Voyager. This should be cost-effective. It should be feasible to build this spacecraft using technology available today. It should have a simple propulsion system. It should be AI enabled. The aim is to explore the region beyond the heliosphere and the heliosheath. It should be designed to last 100 years. The ultimate aim is to build a low-cost AI enabled Bracewell probe. Give me design considerations, costs and design of subsystems, and propulsion systems (chemical rockets, solar sails, etc.)\n",
            "\n",
            "--------------------------------------------------------------------------------\n",
            "\n",
            ">>>>>>>> USING AUTO REPLY...\n"
          ]
        },
        {
          "output_type": "stream",
          "name": "stderr",
          "text": [
            "/usr/local/lib/python3.11/dist-packages/autogen/agentchat/conversable_agent.py:3332: UserWarning: Function 'delegate_research_task' is being overridden.\n",
            "  warnings.warn(f\"Function '{name}' is being overridden.\", UserWarning)\n"
          ]
        },
        {
          "output_type": "stream",
          "name": "stdout",
          "text": [
            "DeepResearchAgentScifi (to user):\n",
            "\n",
            "***** Suggested tool call (call_Kprwcb6EFlyr5WHEAYt4wD8g): delegate_research_task *****\n",
            "Arguments: \n",
            "{\"task\":\"Design a cost-effective and resilient spacecraft similar to Voyager, aimed at exploring the region beyond the heliosphere and heliosheath.  Include design considerations, costs, subsystems, and propulsion systems such as chemical rockets or solar sails, and focus on an AI-enabled design for longevity (100 years) low-cost Bracewell probe.\"}\n",
            "***************************************************************************************\n",
            "\n",
            "--------------------------------------------------------------------------------\n",
            "Replying as user. Provide feedback to DeepResearchAgentScifi. Press enter to skip and use auto-reply, or type 'exit' to end the conversation: \n",
            "\n",
            ">>>>>>>> NO HUMAN INPUT RECEIVED.\n",
            "\n",
            ">>>>>>>> USING AUTO REPLY...\n",
            "\n",
            ">>>>>>>> EXECUTING FUNCTION delegate_research_task...\n",
            "Call ID: call_Kprwcb6EFlyr5WHEAYt4wD8g\n",
            "Input arguments: {'task': 'Design a cost-effective and resilient spacecraft similar to Voyager, aimed at exploring the region beyond the heliosphere and heliosheath.  Include design considerations, costs, subsystems, and propulsion systems such as chemical rockets or solar sails, and focus on an AI-enabled design for longevity (100 years) low-cost Bracewell probe.'}\n",
            "CriticAgent (to SummarizerAgent):\n",
            "\n",
            "Please answer the following question: Design a cost-effective and resilient spacecraft similar to Voyager, aimed at exploring the region beyond the heliosphere and heliosheath.  Include design considerations, costs, subsystems, and propulsion systems such as chemical rockets or solar sails, and focus on an AI-enabled design for longevity (100 years) low-cost Bracewell probe.\n",
            "\n",
            "--------------------------------------------------------------------------------\n"
          ]
        },
        {
          "output_type": "stream",
          "name": "stderr",
          "text": [
            "/usr/local/lib/python3.11/dist-packages/autogen/agentchat/conversable_agent.py:3434: UserWarning: Function 'confirm_summary' is being overridden.\n",
            "  warnings.warn(f\"Function '{tool_sig['function']['name']}' is being overridden.\", UserWarning)\n",
            "/usr/local/lib/python3.11/dist-packages/autogen/agentchat/conversable_agent.py:3332: UserWarning: Function 'confirm_summary' is being overridden.\n",
            "  warnings.warn(f\"Function '{name}' is being overridden.\", UserWarning)\n",
            "/usr/local/lib/python3.11/dist-packages/autogen/agentchat/conversable_agent.py:3434: UserWarning: Function 'split_question_and_answer_subquestions' is being overridden.\n",
            "  warnings.warn(f\"Function '{tool_sig['function']['name']}' is being overridden.\", UserWarning)\n",
            "/usr/local/lib/python3.11/dist-packages/autogen/agentchat/conversable_agent.py:3332: UserWarning: Function 'split_question_and_answer_subquestions' is being overridden.\n",
            "  warnings.warn(f\"Function '{name}' is being overridden.\", UserWarning)\n"
          ]
        },
        {
          "output_type": "stream",
          "name": "stdout",
          "text": [
            "SummarizerAgent (to CriticAgent):\n",
            "\n",
            "***** Suggested tool call (call_LAQxquNcEQ1EVs3bwvTvFbfz): split_question_and_answer_subquestions *****\n",
            "Arguments: \n",
            "{\"question\":\"Design a cost-effective and resilient spacecraft similar to Voyager, aimed at exploring the region beyond the heliosphere and heliosheath. Include design considerations, costs, subsystems, and propulsion systems such as chemical rockets or solar sails, and focus on an AI-enabled design for longevity (100 years) low-cost Bracewell probe.\"}\n",
            "*******************************************************************************************************\n",
            "\n",
            "--------------------------------------------------------------------------------\n",
            "\n",
            ">>>>>>>> EXECUTING FUNCTION split_question_and_answer_subquestions...\n",
            "Call ID: call_LAQxquNcEQ1EVs3bwvTvFbfz\n",
            "Input arguments: {'question': 'Design a cost-effective and resilient spacecraft similar to Voyager, aimed at exploring the region beyond the heliosphere and heliosheath. Include design considerations, costs, subsystems, and propulsion systems such as chemical rockets or solar sails, and focus on an AI-enabled design for longevity (100 years) low-cost Bracewell probe.'}\n",
            "DecompositionCritic (to DecompositionAgent):\n",
            "\n",
            "Analyse and gather subqestions for the following question: Design a cost-effective and resilient spacecraft similar to Voyager, aimed at exploring the region beyond the heliosphere and heliosheath. Include design considerations, costs, subsystems, and propulsion systems such as chemical rockets or solar sails, and focus on an AI-enabled design for longevity (100 years) low-cost Bracewell probe.\n",
            "\n",
            "--------------------------------------------------------------------------------\n",
            "DecompositionAgent (to DecompositionCritic):\n",
            "\n",
            "1. What design considerations are essential for ensuring the spacecraft's resilience in the harsh environment beyond the heliosphere and heliosheath?\n",
            "\n",
            "2. What is the estimated overall budget for developing the spacecraft, and how can costs be minimized in different stages of the project?\n",
            "\n",
            "3. What subsystems are necessary for the spacecraft to function successfully in deep space, including power generation, thermal control, and communication?\n",
            "\n",
            "4. Which propulsion systems (e.g., chemical rockets, solar sails) would be most viable for this mission, considering efficiency, thrust, and adaptability for long-term travel?\n",
            "\n",
            "5. How can AI technologies be integrated into the spacecraft's design to enhance longevity and operational efficiency over a 100-year mission?\n",
            "\n",
            "--------------------------------------------------------------------------------\n",
            "DecompositionCritic (to DecompositionAgent):\n",
            "\n",
            "The subquestions provided are clear, actionable, and cover the key aspects of the original question. They effectively break down the complex considerations involved in designing a spacecraft similar to Voyager for a specific mission. Each subquestion addresses a unique aspect of the project without redundancy or unnecessary detail.\n",
            "\n",
            "- The first subquestion focuses on design considerations for resilience, which is crucial for deep space missions.\n",
            "- The second subquestion addresses the budget and cost minimization strategies, which are essential in spacecraft design.\n",
            "- The third subquestion outlines the necessary subsystems for functionality in deep space.\n",
            "- The fourth subquestion explores propulsion options, which are critical for mission success.\n",
            "- The fifth subquestion examines the integration of AI technologies, aligning with the aim of longevity and efficiency.\n",
            "\n",
            "These subquestions collectively ensure comprehensive coverage of the original question while remaining concise and relevant. Thus, I will proceed to call the 'generate_subquestions' method.\n",
            "\n",
            "{\"task\":{\"question\":\"Design a cost-effective and resilient spacecraft similar to Voyager, aimed at exploring the region beyond the heliosphere and heliosheath. Include design considerations, costs, subsystems, and propulsion systems such as chemical rockets or solar sails, and focus on an AI-enabled design for longevity (100 years) low-cost Bracewell probe.\",\"subquestions\":[{\"question\":\"What design considerations are essential for ensuring the spacecraft's resilience in the harsh environment beyond the heliosphere and heliosheath?\"},{\"question\":\"What is the estimated overall budget for developing the spacecraft, and how can costs be minimized in different stages of the project?\"},{\"question\":\"What subsystems are necessary for the spacecraft to function successfully in deep space, including power generation, thermal control, and communication?\"},{\"question\":\"Which propulsion systems (e.g., chemical rockets, solar sails) would be most viable for this mission, considering efficiency, thrust, and adaptability for long-term travel?\"},{\"question\":\"How can AI technologies be integrated into the spacecraft's design to enhance longevity and operational efficiency over a 100-year mission?\"}]}}\n",
            "\n",
            "--------------------------------------------------------------------------------\n",
            "DecompositionAgent (to DecompositionCritic):\n",
            "\n",
            "{\"task\":{\"question\":\"Design a cost-effective and resilient spacecraft similar to Voyager, aimed at exploring the region beyond the heliosphere and heliosheath. Include design considerations, costs, subsystems, and propulsion systems such as chemical rockets or solar sails, and focus on an AI-enabled design for longevity (100 years) low-cost Bracewell probe.\",\"subquestions\":[{\"question\":\"What design considerations are essential for ensuring the spacecraft's resilience in the harsh environment beyond the heliosphere and heliosheath?\"},{\"question\":\"What is the estimated overall budget for developing the spacecraft, and how can costs be minimized in different stages of the project?\"},{\"question\":\"What subsystems are necessary for the spacecraft to function successfully in deep space, including power generation, thermal control, and communication?\"},{\"question\":\"Which propulsion systems (e.g., chemical rockets, solar sails) would be most viable for this mission, considering efficiency, thrust, and adaptability for long-term travel?\"},{\"question\":\"How can AI technologies be integrated into the spacecraft's design to enhance longevity and operational efficiency over a 100-year mission?\"}]}}\n",
            "\n",
            "--------------------------------------------------------------------------------\n",
            "DecompositionCritic (to DecompositionAgent):\n",
            "\n",
            "***** Suggested tool call (call_0Sq8QG5k2jxGCgDn8RVK3fl1): generate_subquestions *****\n",
            "Arguments: \n",
            "{\"task\": {\"question\": \"What design considerations are essential for ensuring the spacecraft's resilience in the harsh environment beyond the heliosphere and heliosheath?\", \"subquestions\": []}}\n",
            "**************************************************************************************\n",
            "***** Suggested tool call (call_56CwZJiRX3rEJQGwkvVfOYoQ): generate_subquestions *****\n",
            "Arguments: \n",
            "{\"task\": {\"question\": \"What is the estimated overall budget for developing the spacecraft, and how can costs be minimized in different stages of the project?\", \"subquestions\": []}}\n",
            "**************************************************************************************\n",
            "***** Suggested tool call (call_TTwSdVhmztUNHmOrCWtFFfRJ): generate_subquestions *****\n",
            "Arguments: \n",
            "{\"task\": {\"question\": \"What subsystems are necessary for the spacecraft to function successfully in deep space, including power generation, thermal control, and communication?\", \"subquestions\": []}}\n",
            "**************************************************************************************\n",
            "***** Suggested tool call (call_VqJjlQfCWbLrF4P5n7U9QUqB): generate_subquestions *****\n",
            "Arguments: \n",
            "{\"task\": {\"question\": \"Which propulsion systems (e.g., chemical rockets, solar sails) would be most viable for this mission, considering efficiency, thrust, and adaptability for long-term travel?\", \"subquestions\": []}}\n",
            "**************************************************************************************\n",
            "***** Suggested tool call (call_NpxaxKF6GAF3EQp7q0Xe4xwG): generate_subquestions *****\n",
            "Arguments: \n",
            "{\"task\": {\"question\": \"How can AI technologies be integrated into the spacecraft's design to enhance longevity and operational efficiency over a 100-year mission?\", \"subquestions\": []}}\n",
            "**************************************************************************************\n",
            "\n",
            "--------------------------------------------------------------------------------\n",
            "\n",
            ">>>>>>>> EXECUTING FUNCTION generate_subquestions...\n",
            "Call ID: call_0Sq8QG5k2jxGCgDn8RVK3fl1\n",
            "Input arguments: {'task': {'question': \"What design considerations are essential for ensuring the spacecraft's resilience in the harsh environment beyond the heliosphere and heliosheath?\", 'subquestions': []}}\n",
            "WebSurferCritic (to WebSurferAgent):\n",
            "\n",
            "Please find the answer to this question: What design considerations are essential for ensuring the spacecraft's resilience in the harsh environment beyond the heliosphere and heliosheath?\n",
            "\n",
            "--------------------------------------------------------------------------------\n",
            "WebSurferAgent (to WebSurferCritic):\n",
            "\n",
            "***** Suggested tool call (call_HtcMmH1PxPo8kTtgkpawG5GX): browser_use *****\n",
            "\n",
            ">>>>>>>> EXECUTING FUNCTION browser_use...\n",
            "Call ID: call_HtcMmH1PxPo8kTtgkpawG5GX\n",
            "Input arguments: {'task': 'Find information on design considerations for spacecraft resilience in the harsh environment beyond the heliosphere and heliosheath.'}\n",
            "Arguments: \n",
            "{\"task\":\"Find information on design considerations for spacecraft resilience in the harsh environment beyond the heliosphere and heliosheath.\"}\n",
            "****************************************************************************\n",
            "\n",
            "--------------------------------------------------------------------------------\n"
          ]
        },
        {
          "output_type": "stream",
          "name": "stderr",
          "text": [
            "ERROR:asyncio:Task exception was never retrieved\n",
            "future: <Task finished name='Task-2309' coro=<AsyncClient.aclose() done, defined at /usr/local/lib/python3.11/dist-packages/httpx/_client.py:1978> exception=RuntimeError('Event loop is closed')>\n",
            "Traceback (most recent call last):\n",
            "  File \"/usr/lib/python3.11/asyncio/tasks.py\", line 277, in __step\n",
            "    result = coro.send(None)\n",
            "             ^^^^^^^^^^^^^^^\n",
            "  File \"/usr/local/lib/python3.11/dist-packages/httpx/_client.py\", line 1985, in aclose\n",
            "    await self._transport.aclose()\n",
            "  File \"/usr/local/lib/python3.11/dist-packages/httpx/_transports/default.py\", line 406, in aclose\n",
            "    await self._pool.aclose()\n",
            "  File \"/usr/local/lib/python3.11/dist-packages/httpcore/_async/connection_pool.py\", line 353, in aclose\n",
            "    await self._close_connections(closing_connections)\n",
            "  File \"/usr/local/lib/python3.11/dist-packages/httpcore/_async/connection_pool.py\", line 345, in _close_connections\n",
            "    await connection.aclose()\n",
            "  File \"/usr/local/lib/python3.11/dist-packages/httpcore/_async/connection.py\", line 173, in aclose\n",
            "    await self._connection.aclose()\n",
            "  File \"/usr/local/lib/python3.11/dist-packages/httpcore/_async/http11.py\", line 258, in aclose\n",
            "    await self._network_stream.aclose()\n",
            "  File \"/usr/local/lib/python3.11/dist-packages/httpcore/_backends/anyio.py\", line 53, in aclose\n",
            "    await self._stream.aclose()\n",
            "  File \"/usr/local/lib/python3.11/dist-packages/anyio/streams/tls.py\", line 216, in aclose\n",
            "    await self.transport_stream.aclose()\n",
            "  File \"/usr/local/lib/python3.11/dist-packages/anyio/_backends/_asyncio.py\", line 1314, in aclose\n",
            "    self._transport.close()\n",
            "  File \"/usr/lib/python3.11/asyncio/selector_events.py\", line 864, in close\n",
            "    self._loop.call_soon(self._call_connection_lost, None)\n",
            "  File \"/usr/lib/python3.11/asyncio/base_events.py\", line 762, in call_soon\n",
            "    self._check_closed()\n",
            "  File \"/usr/lib/python3.11/asyncio/base_events.py\", line 520, in _check_closed\n",
            "    raise RuntimeError('Event loop is closed')\n",
            "RuntimeError: Event loop is closed\n",
            "ERROR:browser_use.browser.context:Failed to locate element: Locator.element_handle: Error: strict mode violation: locator(\"html > body > div > div > div:nth-of-type(2) > div:nth-of-type(2) > div > table > tbody > tr > td.rc-imageselect-tile[role=\\\"button\\\"][aria-label=\\\"Image challenge\\\"]\") resolved to 9 elements:\n",
            "    1) <td tabindex=\"4\" role=\"button\" class=\"rc-imageselect-tile\" aria-label=\"Image challenge\" browser-user-highlight-id=\"playwright-highlight-4\">…</td> aka locator(\".rc-imageselect-tile\").first\n",
            "    2) <td tabindex=\"5\" role=\"button\" class=\"rc-imageselect-tile\" aria-label=\"Image challenge\" browser-user-highlight-id=\"playwright-highlight-6\">…</td> aka locator(\"td:nth-child(2)\").first\n",
            "    3) <td tabindex=\"6\" role=\"button\" class=\"rc-imageselect-tile\" aria-label=\"Image challenge\" browser-user-highlight-id=\"playwright-highlight-8\">…</td> aka locator(\"td:nth-child(3)\").first\n",
            "    4) <td tabindex=\"7\" role=\"button\" class=\"rc-imageselect-tile\" aria-label=\"Image challenge\" browser-user-highlight-id=\"playwright-highlight-10\">…</td> aka locator(\"tr:nth-child(2) > td\").first\n",
            "    5) <td tabindex=\"8\" role=\"button\" class=\"rc-imageselect-tile\" aria-label=\"Image challenge\" browser-user-highlight-id=\"playwright-highlight-12\">…</td> aka locator(\"tr:nth-child(2) > td:nth-child(2)\")\n",
            "    6) <td tabindex=\"9\" role=\"button\" class=\"rc-imageselect-tile\" aria-label=\"Image challenge\" browser-user-highlight-id=\"playwright-highlight-14\">…</td> aka locator(\"tr:nth-child(2) > td:nth-child(3)\")\n",
            "    7) <td role=\"button\" tabindex=\"10\" class=\"rc-imageselect-tile\" aria-label=\"Image challenge\" browser-user-highlight-id=\"playwright-highlight-16\">…</td> aka locator(\"tr:nth-child(3) > td\").first\n",
            "    8) <td role=\"button\" tabindex=\"11\" class=\"rc-imageselect-tile\" aria-label=\"Image challenge\" browser-user-highlight-id=\"playwright-highlight-18\">…</td> aka locator(\"tr:nth-child(3) > td:nth-child(2)\")\n",
            "    9) <td role=\"button\" tabindex=\"12\" class=\"rc-imageselect-tile\" aria-label=\"Image challenge\" browser-user-highlight-id=\"playwright-highlight-20\">…</td> aka locator(\"tr:nth-child(3) > td:nth-child(3)\")\n",
            "\n",
            "Call log:\n",
            "  - waiting for locator(\"html > body > div:nth-of-type(2) > div:nth-of-type(4) > iframe[title=\\\"recaptcha challenge expires in two minutes\\\"][name=\\\"c-32kldz1gz2cf\\\"][src=\\\"https://www.google.com/recaptcha/api2/bframe?hl=en&v=GUGrl5YkSwpBsxsF3eY665Ye&k=6LdLLIMbAAAAAIl-KLj9p1ePhM-4LCCDbjtJLqRO\\\"]\").content_frame.locator(\"html > body > div > div > div:nth-of-type(2) > div:nth-of-type(2) > div > table > tbody > tr > td.rc-imageselect-tile[role=\\\"button\\\"][aria-label=\\\"Image challenge\\\"]\")\n",
            "\n",
            "WARNING:browser_use.controller.service:Element not clickable with index 4 - most likely the page changed\n"
          ]
        }
      ]
    },
    {
      "cell_type": "markdown",
      "source": [
        "Save the output to a log file"
      ],
      "metadata": {
        "id": "bcKN5icipUq2"
      }
    },
    {
      "cell_type": "markdown",
      "source": [
        "First connect to Google Drive"
      ],
      "metadata": {
        "id": "hYqr7JcnpeFQ"
      }
    },
    {
      "cell_type": "code",
      "source": [
        "from google.colab import drive\n",
        "drive.mount('/content/drive')"
      ],
      "metadata": {
        "colab": {
          "base_uri": "https://localhost:8080/"
        },
        "id": "X0XzWZdmpWf4",
        "outputId": "67dc02bc-695c-44ba-e64b-e7f8c749f9a2"
      },
      "execution_count": null,
      "outputs": [
        {
          "output_type": "stream",
          "name": "stdout",
          "text": [
            "Mounted at /content/drive\n"
          ]
        }
      ]
    },
    {
      "cell_type": "markdown",
      "source": [
        "Switch to folder"
      ],
      "metadata": {
        "id": "a-4J54E9ptXq"
      }
    },
    {
      "cell_type": "code",
      "source": [
        "import os\n",
        "os.chdir('/content/drive/My Drive/Colab Notebooks')\n",
        "print(output)"
      ],
      "metadata": {
        "colab": {
          "base_uri": "https://localhost:8080/"
        },
        "id": "_twwn5QkpwGp",
        "outputId": "860af7ad-da95-4ce1-a28a-f0c7080a8e28"
      },
      "execution_count": null,
      "outputs": [
        {
          "output_type": "stream",
          "name": "stdout",
          "text": [
            "None\n"
          ]
        }
      ]
    },
    {
      "cell_type": "markdown",
      "source": [
        "Finally save output to a file"
      ],
      "metadata": {
        "id": "csDqlsvrp-jN"
      }
    },
    {
      "cell_type": "code",
      "source": [
        "#f = open('trip_planner.txt', 'w')\n",
        "#f.write(output)\n",
        "#f.close()"
      ],
      "metadata": {
        "colab": {
          "base_uri": "https://localhost:8080/",
          "height": 176
        },
        "id": "r30eNgoEqBUA",
        "outputId": "f8bb3b33-682a-4b72-dd3d-7b4c540d08a9"
      },
      "execution_count": null,
      "outputs": [
        {
          "output_type": "error",
          "ename": "TypeError",
          "evalue": "write() argument must be str, not None",
          "traceback": [
            "\u001b[0;31m---------------------------------------------------------------------------\u001b[0m",
            "\u001b[0;31mTypeError\u001b[0m                                 Traceback (most recent call last)",
            "\u001b[0;32m<ipython-input-18-4641937cbc6e>\u001b[0m in \u001b[0;36m<cell line: 0>\u001b[0;34m()\u001b[0m\n\u001b[1;32m      1\u001b[0m \u001b[0mf\u001b[0m \u001b[0;34m=\u001b[0m \u001b[0mopen\u001b[0m\u001b[0;34m(\u001b[0m\u001b[0;34m'trip_planner.txt'\u001b[0m\u001b[0;34m,\u001b[0m \u001b[0;34m'w'\u001b[0m\u001b[0;34m)\u001b[0m\u001b[0;34m\u001b[0m\u001b[0;34m\u001b[0m\u001b[0m\n\u001b[0;32m----> 2\u001b[0;31m \u001b[0mf\u001b[0m\u001b[0;34m.\u001b[0m\u001b[0mwrite\u001b[0m\u001b[0;34m(\u001b[0m\u001b[0moutput\u001b[0m\u001b[0;34m)\u001b[0m\u001b[0;34m\u001b[0m\u001b[0;34m\u001b[0m\u001b[0m\n\u001b[0m\u001b[1;32m      3\u001b[0m \u001b[0mf\u001b[0m\u001b[0;34m.\u001b[0m\u001b[0mclose\u001b[0m\u001b[0;34m(\u001b[0m\u001b[0;34m)\u001b[0m\u001b[0;34m\u001b[0m\u001b[0;34m\u001b[0m\u001b[0m\n",
            "\u001b[0;31mTypeError\u001b[0m: write() argument must be str, not None"
          ]
        }
      ]
    },
    {
      "cell_type": "markdown",
      "source": [
        "TODO: Optional extensions. Use tools\n",
        "\n",
        "The `DeepResearchAgent` comes equipped with a variety of pre-built tools that expand its capabilities. These tools enable the agent to interact with the web, access information, and execute specific actions.\n",
        "\n",
        "Available Tools\n",
        "\n",
        "Here's a breakdown of the available tools:\n",
        "\n",
        "* Search: Allows the agent to perform web searches using Google Search and retrieve relevant information from web pages. This tool is crucial for gathering data and answering questions that require external knowledge.\n",
        "* Browse_Website: Enables the agent to interact with websites by visiting specific URLs, extracting content, and navigating through web pages. This is useful for tasks like data scraping, web automation, and information retrieval.\n",
        "* Write_File: This tool allows the agent to create and write data to files, which can be useful for storing information, generating reports, or persisting data between agent interactions.\n",
        "* Read_File: This tool complements Write_File by enabling the agent to read data from files. This allows the agent to access previously stored information or work with existing datasets.\n",
        "* Append_File: Extends the file manipulation capabilities by allowing the agent to add data to existing files without overwriting the original content. This is helpful for tasks like logging or building up data over time.\n",
        "* List_Files: Provides a way for the agent to retrieve a list of files in a specified directory. This helps the agent manage and access available files.\n",
        "* Delete_File: Enables the agent to delete files, allowing for cleanup or removal of unnecessary data.\n",
        "\n",
        "Accessing Tools\n",
        "\n",
        "You can access these tools through the agent.tools attribute of your DeepResearchAgent instance. For example, to use the Search tool, you would include it in the tools argument when calling the agent.run method:\n",
        "\n",
        "```py\n",
        "run_agent = agent.run(\n",
        "    message = str_prompt,\n",
        "    tools = agent.tools,  # Include available tools\n",
        "    max_turns = i_MAX_TURNS,\n",
        "    user_input = False,\n",
        "    summary_method = \"reflection_with_llm\"\n",
        ")\n",
        "```"
      ],
      "metadata": {
        "id": "mcFbszl7yMM-"
      }
    }
  ]
}